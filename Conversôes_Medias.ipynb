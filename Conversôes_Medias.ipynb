{
  "nbformat": 4,
  "nbformat_minor": 0,
  "metadata": {
    "colab": {
      "provenance": [],
      "authorship_tag": "ABX9TyNfq+ksVGRjqr0OzsA4GQgH",
      "include_colab_link": true
    },
    "kernelspec": {
      "name": "python3",
      "display_name": "Python 3"
    },
    "language_info": {
      "name": "python"
    }
  },
  "cells": [
    {
      "cell_type": "markdown",
      "metadata": {
        "id": "view-in-github",
        "colab_type": "text"
      },
      "source": [
        "<a href=\"https://colab.research.google.com/github/Ishiki02/PA-2025/blob/main/Convers%C3%B4es_Medias.ipynb\" target=\"_parent\"><img src=\"https://colab.research.google.com/assets/colab-badge.svg\" alt=\"Open In Colab\"/></a>"
      ]
    },
    {
      "cell_type": "code",
      "execution_count": 11,
      "metadata": {
        "id": "zu9Xw1kYevI7",
        "colab": {
          "base_uri": "https://localhost:8080/"
        },
        "outputId": "4f79c2f3-b3ac-4a87-e0d8-1d91c07bebf8"
      },
      "outputs": [
        {
          "output_type": "stream",
          "name": "stdout",
          "text": [
            "Nota da prova 1:8\n",
            "Nota da prova 2:9\n",
            "A Media da Nota é 8.5\n"
          ]
        }
      ],
      "source": [
        "Nota = float(input('Nota da prova 1:'))\n",
        "Nota2 = float(input('Nota da prova 2:'))\n",
        "Media = (Nota + Nota2)/2\n",
        "print (\"A Media da Nota é\", Media)"
      ]
    },
    {
      "cell_type": "code",
      "source": [
        "Valor = float(input('Valor da Peça:'))\n",
        "Quantidade = int(input('Quantas peças:'))\n",
        "VT = (Valor*Quantidade)\n",
        "print (\"o Valor total é\", VT)"
      ],
      "metadata": {
        "id": "7ie3L04ZjIt8",
        "colab": {
          "base_uri": "https://localhost:8080/"
        },
        "outputId": "99d152c0-77cf-4df6-cb06-1f3fbc984746"
      },
      "execution_count": 31,
      "outputs": [
        {
          "output_type": "stream",
          "name": "stdout",
          "text": [
            "Valor da Peça:45.6\n",
            "Quantas peças:7\n",
            "o Valor total é 319.2\n"
          ]
        }
      ]
    },
    {
      "cell_type": "code",
      "source": [
        "MinPe = int(input(\"Quantidade Minima de Peças:\"))\n",
        "MaXPe = int(input(\"Quantidade Maxima de Peças:\"))\n",
        "Media = (MinPe+MaXPe)/2\n",
        "print (\"A media de peças é:\", Media)"
      ],
      "metadata": {
        "id": "bQlFhgAGjK8E",
        "colab": {
          "base_uri": "https://localhost:8080/"
        },
        "outputId": "e93e420d-489c-4517-b1bb-49e2f8eec29e"
      },
      "execution_count": 27,
      "outputs": [
        {
          "output_type": "stream",
          "name": "stdout",
          "text": [
            "Quantidade Minima de Peças:6\n",
            "Quantidade Maxima de Peças:2\n",
            "A media de peças é: 4.0\n"
          ]
        }
      ]
    },
    {
      "cell_type": "code",
      "source": [
        "C = int(input('graus Celsius:'))\n",
        "F = float(C*1.8)+32\n",
        "print (\"Celsius transformados para fahrenheit:\", F)"
      ],
      "metadata": {
        "id": "Nf-T78xLgwiI",
        "colab": {
          "base_uri": "https://localhost:8080/"
        },
        "outputId": "d7d3a2a8-60ab-4897-ba9c-049cbf73fe58"
      },
      "execution_count": 50,
      "outputs": [
        {
          "output_type": "stream",
          "name": "stdout",
          "text": [
            "graus Celsius:28\n",
            "Celsius transformados para fahrenheit: 82.4\n"
          ]
        }
      ]
    },
    {
      "cell_type": "code",
      "source": [
        "Km = float(input('Quilometros:'))\n",
        "Milha = float(Km/1.6093)\n",
        "print ('Quilometros transformados para milhas:', Milha)"
      ],
      "metadata": {
        "colab": {
          "base_uri": "https://localhost:8080/"
        },
        "id": "C5V86s-zzCqp",
        "outputId": "eba60779-fdae-4e50-d4a9-43ce9d0e0fd5"
      },
      "execution_count": 58,
      "outputs": [
        {
          "output_type": "stream",
          "name": "stdout",
          "text": [
            "Quilometros:99\n",
            "Quilometros transformados para milhas: 61.51742993848257\n"
          ]
        }
      ]
    },
    {
      "cell_type": "code",
      "source": [
        "RS = float(input(\"Reais:\"))\n",
        "USD = float (RS/5.78)\n",
        "print ('A conversão da', USD)"
      ],
      "metadata": {
        "colab": {
          "base_uri": "https://localhost:8080/"
        },
        "id": "8yu6qsQC3NUC",
        "outputId": "6fd1681a-3538-46a6-e73e-023c3d623fc4"
      },
      "execution_count": 64,
      "outputs": [
        {
          "output_type": "stream",
          "name": "stdout",
          "text": [
            "Reais:58\n",
            "A conversão da 10.034602076124568\n"
          ]
        }
      ]
    }
  ]
}