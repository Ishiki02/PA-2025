{
  "nbformat": 4,
  "nbformat_minor": 0,
  "metadata": {
    "colab": {
      "provenance": []
    },
    "kernelspec": {
      "name": "python3",
      "display_name": "Python 3"
    },
    "language_info": {
      "name": "python"
    }
  },
  "cells": [
    {
      "cell_type": "code",
      "execution_count": null,
      "metadata": {
        "colab": {
          "base_uri": "https://localhost:8080/"
        },
        "id": "5zaIFVeBEJM0",
        "outputId": "e96b63fc-3a14-467b-cdc3-745d6c48088f"
      },
      "outputs": [
        {
          "output_type": "stream",
          "name": "stdout",
          "text": [
            "par ou impar:13\n",
            "Seu Numero é impar\n"
          ]
        }
      ],
      "source": [
        "#questão 1#\n",
        "number = float(input('par ou impar:'))\n",
        "if number % 2 == 0:\n",
        "  print('O numero é par')\n",
        "else:\n",
        "   print('Seu Numero é impar')"
      ]
    },
    {
      "cell_type": "code",
      "source": [
        "#questão 2#\n",
        "nota1 = int(input('Primeira nota: '))\n",
        "nota2 = int(input('Segunda  nota: '))\n",
        "nota3 = int(input('Terceira nota: '))\n",
        "if (nota1+nota2+nota3>=18):\n",
        "  print('Aprovado')\n",
        "else:\n",
        "  print('reprovado')"
      ],
      "metadata": {
        "colab": {
          "base_uri": "https://localhost:8080/"
        },
        "id": "gtmjjUQ7RbDt",
        "outputId": "abcc92e4-16cd-4cb2-e58f-4d8774335581"
      },
      "execution_count": 31,
      "outputs": [
        {
          "output_type": "stream",
          "name": "stdout",
          "text": [
            "Primeira nota: 3\n",
            "Segunda  nota: 3\n",
            "Terceira nota: 3\n",
            "reprovado\n"
          ]
        }
      ]
    },
    {
      "cell_type": "code",
      "source": [
        "#questão 3#\n",
        "idade = int(input('Sua idade: '))\n",
        "if idade>=18:\n",
        "  print('maior de idade')\n",
        "else:\n",
        "  print('menor de idade')"
      ],
      "metadata": {
        "colab": {
          "base_uri": "https://localhost:8080/"
        },
        "id": "2JULlrYiVMtW",
        "outputId": "75713b72-35f4-4859-8890-d1a77765d2b9"
      },
      "execution_count": null,
      "outputs": [
        {
          "output_type": "stream",
          "name": "stdout",
          "text": [
            "Sua idade: 12\n",
            "menor de ideade\n"
          ]
        }
      ]
    },
    {
      "cell_type": "code",
      "source": [
        "#questão 4#\n",
        "number = int(input('Veja se seu numero é mutiplo de 5: '))\n",
        "if number % 5 == 0:\n",
        "  print('Seu Numero é mutiplo de 5')\n",
        "else:\n",
        " print('Seu numero nao é mutiplo de 5')"
      ],
      "metadata": {
        "colab": {
          "base_uri": "https://localhost:8080/"
        },
        "id": "-n0dWyoyTTrW",
        "outputId": "1e04abac-499a-413c-d5f6-19b1e8cfb3be"
      },
      "execution_count": null,
      "outputs": [
        {
          "output_type": "stream",
          "name": "stdout",
          "text": [
            "Veja se seu numero é mutiplo de 5: 1\n",
            "Seu numero nao é mutiplo de 5\n"
          ]
        }
      ]
    },
    {
      "cell_type": "code",
      "source": [
        "#questão 5#\n",
        "peso=float(input(\"Digite seu peso: \"))\n",
        "altura=float(input(\"Digite sua altura: \"))\n",
        "\n",
        "imc=peso/altura**2\n",
        "print(f\"Seu imc é {round(imc, 2)}\")"
      ],
      "metadata": {
        "colab": {
          "base_uri": "https://localhost:8080/"
        },
        "id": "iPiExwb-Wk-E",
        "outputId": "c86b0f8e-07a1-454b-8f18-9c6f9a98f160"
      },
      "execution_count": 98,
      "outputs": [
        {
          "output_type": "stream",
          "name": "stdout",
          "text": [
            "Digite seu peso: 96\n",
            "Digite sua altura: 1.80\n",
            "Seu imc é 29.63\n"
          ]
        }
      ]
    },
    {
      "cell_type": "code",
      "source": [
        "#questão 6#\n",
        "number = int(input('Veja oque é seu numero: '))\n",
        "if number<0:\n",
        "  print('Seu numero é negativo')\n",
        "if number == 0:\n",
        "  print('Seu numero é nulo')\n",
        "if number>0:\n",
        "  print('Seu numero é positivo')\n"
      ],
      "metadata": {
        "colab": {
          "base_uri": "https://localhost:8080/"
        },
        "id": "qtQBq7eKTwhN",
        "outputId": "78d8af49-dc97-48e7-d547-bbd184eac6aa"
      },
      "execution_count": null,
      "outputs": [
        {
          "output_type": "stream",
          "name": "stdout",
          "text": [
            "Veja oque é seu numero: 2\n",
            "Seu numero é positivo\n"
          ]
        }
      ]
    },
    {
      "cell_type": "code",
      "source": [
        "3#questão 7#\n",
        "num=int(input(\"digite um número: \"))\n",
        "op=str(input(\"Operação: \"))\n",
        "num2=int(input(\"digite outro número: \"))\n",
        "if(op==\"+\"):\n",
        "  print(f\"resultado: {num+num2}\");\n",
        "elif(op==\"-\"):\n",
        "  print(f\"resultado: {num-num2}\");\n",
        "elif(op==\"*\"):\n",
        "  print(f\"resultado: {num*num2}\");\n",
        "elif(op==\"/\"):\n",
        "  print(f\"resultado: {num/num2}\");"
      ],
      "metadata": {
        "colab": {
          "base_uri": "https://localhost:8080/"
        },
        "id": "kJz51DasW3wi",
        "outputId": "d35db601-22d5-4a8f-fd9e-00d2a56ec705"
      },
      "execution_count": 111,
      "outputs": [
        {
          "output_type": "stream",
          "name": "stdout",
          "text": [
            "digite um número: 2\n",
            "Operação: +\n",
            "digite outro número: 3\n",
            "resultado: 5\n"
          ]
        }
      ]
    },
    {
      "cell_type": "code",
      "source": [
        "#questão 8#\n",
        "for i in range(1, 11):\n",
        "    print(i)"
      ],
      "metadata": {
        "id": "dn1jWNiLXVl3",
        "colab": {
          "base_uri": "https://localhost:8080/"
        },
        "outputId": "efab72cd-f614-4fb8-f14a-3e2b2b5b9c00"
      },
      "execution_count": 101,
      "outputs": [
        {
          "output_type": "stream",
          "name": "stdout",
          "text": [
            "1\n",
            "2\n",
            "3\n",
            "4\n",
            "5\n",
            "6\n",
            "7\n",
            "8\n",
            "9\n",
            "10\n"
          ]
        }
      ]
    },
    {
      "cell_type": "code",
      "source": [
        "#questão 9#\n",
        "from time import sleep\n",
        "\n",
        "i=10;\n",
        "\n",
        "while i>0:\n",
        "  print(i)\n",
        "  i-=1;\n",
        "  sleep(1)\n",
        "\n",
        "print(\"Fim\")"
      ],
      "metadata": {
        "colab": {
          "base_uri": "https://localhost:8080/"
        },
        "id": "KqS5bfY6Hh8R",
        "outputId": "02fcec9d-3175-4a61-ee6e-6c6240d9ba9b"
      },
      "execution_count": 96,
      "outputs": [
        {
          "output_type": "stream",
          "name": "stdout",
          "text": [
            "10\n",
            "9\n",
            "8\n",
            "7\n",
            "6\n",
            "5\n",
            "4\n",
            "3\n",
            "2\n",
            "1\n",
            "Fim\n"
          ]
        }
      ]
    },
    {
      "cell_type": "markdown",
      "source": [],
      "metadata": {
        "id": "YyXG-8xlHhFp"
      }
    },
    {
      "cell_type": "code",
      "source": [
        "#questão 10#\n",
        "num=int(input(\"Tabuada do numero:  \"))\n",
        "i=0;\n",
        "while not(i>10):\n",
        "  print(f\"{num} x {i} = {num*i}\")\n",
        "  i+=1"
      ],
      "metadata": {
        "colab": {
          "base_uri": "https://localhost:8080/"
        },
        "id": "8l2cIn88KcEJ",
        "outputId": "5d05b645-e0d5-4b8d-86a6-e68aad40b53d"
      },
      "execution_count": 97,
      "outputs": [
        {
          "output_type": "stream",
          "name": "stdout",
          "text": [
            "Me fale um número, e eu direi sua tabuada: 2\n",
            "2 x 0 = 0\n",
            "2 x 1 = 2\n",
            "2 x 2 = 4\n",
            "2 x 3 = 6\n",
            "2 x 4 = 8\n",
            "2 x 5 = 10\n",
            "2 x 6 = 12\n",
            "2 x 7 = 14\n",
            "2 x 8 = 16\n",
            "2 x 9 = 18\n",
            "2 x 10 = 20\n"
          ]
        }
      ]
    },
    {
      "cell_type": "code",
      "source": [
        "#questão 11#\n",
        "a=0;\n",
        "i=1;\n",
        "while not(i>100):\n",
        "  a=a+i;\n",
        "  i+=1;\n",
        "print(a)"
      ],
      "metadata": {
        "colab": {
          "base_uri": "https://localhost:8080/"
        },
        "id": "KSsDZa0eX9HX",
        "outputId": "396c8337-9df2-4da5-ce3a-167309dd32d8"
      },
      "execution_count": 100,
      "outputs": [
        {
          "output_type": "stream",
          "name": "stdout",
          "text": [
            "5050\n"
          ]
        }
      ]
    },
    {
      "cell_type": "code",
      "source": [
        "#questão 12#\n",
        "num=int(input(\"Me diga um número primo: \"))\n",
        "num2=0\n",
        "isprimo=True\n",
        "i=1\n",
        "while not(i>num+1):\n",
        "  if(i!=num and i!=1):\n",
        "    num2=num/i\n",
        "    if(num2==int(num2)):\n",
        "      isprimo=False\n",
        "      break;\n",
        "\n",
        "  i+=1\n",
        "\n",
        "if(isprimo):\n",
        "  print(f\"{num} é número primo\")\n",
        "elif(num==0):\n",
        "  print(\"0 é nulo\")\n",
        "else:\n",
        "  print(f\"{num} não é numero primo\")"
      ],
      "metadata": {
        "colab": {
          "base_uri": "https://localhost:8080/"
        },
        "id": "K6UXedH8VYMW",
        "outputId": "a9fe7246-ecf2-46e3-9bc7-01dbfabbd0fd"
      },
      "execution_count": 114,
      "outputs": [
        {
          "output_type": "stream",
          "name": "stdout",
          "text": [
            "Me diga um número primo: 5\n",
            "5 é número primo\n"
          ]
        }
      ]
    },
    {
      "cell_type": "code",
      "source": [
        "#questao 13#\n",
        "number = int(input('Veja se seu numero esta na lista:'))\n",
        "if number>=10 and number<=50:\n",
        " print('Seu numero esta na lista')\n",
        "else:\n",
        "  print('seu numero nao esta na lista')"
      ],
      "metadata": {
        "colab": {
          "base_uri": "https://localhost:8080/"
        },
        "id": "BaENvOAGLWPz",
        "outputId": "c0d025be-cab3-4c5d-a2c6-23aa2b8e5f7e"
      },
      "execution_count": 25,
      "outputs": [
        {
          "output_type": "stream",
          "name": "stdout",
          "text": [
            "Veja se seu numero esta na lista:12\n",
            "Seu numero esta na lista\n"
          ]
        }
      ]
    },
    {
      "cell_type": "code",
      "source": [
        "#questão 14#\n",
        "import random as r\n",
        "num1a10=r.randint(1, 10)\n",
        "num=int(input(\"Adivinhe o número!\"))\n",
        "\n",
        "if(num==num1a10):\n",
        "  print(f\"Você adivinhou o número {num}, parabéns\")\n",
        "else:\n",
        "  print(f\"Errado, O número era {num1a10} e você escolheu{num}\")"
      ],
      "metadata": {
        "colab": {
          "base_uri": "https://localhost:8080/"
        },
        "id": "HveRsqBRYQA2",
        "outputId": "6e4c8a1f-e5ee-40bf-be8c-01e4d6a81cbf"
      },
      "execution_count": 110,
      "outputs": [
        {
          "output_type": "stream",
          "name": "stdout",
          "text": [
            "Adivinhe o número!2\n",
            "Você adivinhou o número 2!\n"
          ]
        }
      ]
    }
  ]
}