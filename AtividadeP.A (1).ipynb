{
 "cells": [
  {
   "cell_type": "code",
   "execution_count": 78,
   "id": "96764a15-211d-4c33-90b6-a4161f7dc4a1",
   "metadata": {},
   "outputs": [
    {
     "name": "stdin",
     "output_type": "stream",
     "text": [
      "Que dia do mês é ? 0\n"
     ]
    },
    {
     "name": "stdout",
     "output_type": "stream",
     "text": [
      "Dia invalido\n"
     ]
    }
   ],
   "source": [
    "# Detector de fase da lua \n",
    "diadalua=int(input('Que dia do mês é ?'))\n",
    "if(diadalua>=1 and diadalua<=7):\n",
    "      print(\"Sua Lua é uma Lua Nova\")\n",
    "if(diadalua>=8 and diadalua<=14):\n",
    "      print(\"Sua lua é uma Lua Crescente\")\n",
    "if(diadalua>=15 and diadalua<=21):\n",
    "      print(\"Sua Lua é uma Lua Cheia\")\n",
    "if(diadalua>=22 and diadalua<=29):\n",
    "      print(\"Sua lua é uma Lua Mingante\")\n",
    "if(diadalua>=30 and diadalua<=31):\n",
    "      print(\"Inicio Lunar\")\n",
    "if(diadalua>=32):\n",
    "    print(\"Dia invalido\")\n",
    "if(diadalua<=0):\n",
    "    print(\"Dia invalido\")\n",
    "\n",
    "\n",
    "\n",
    "\n",
    "\n"
   ]
  },
  {
   "cell_type": "code",
   "execution_count": 86,
   "id": "a80c8bdf-64fd-41d0-9848-dee88325c1e0",
   "metadata": {},
   "outputs": [
    {
     "name": "stdout",
     "output_type": "stream",
     "text": [
      "------------------------------ Jogo RPG ------------------------------ \n",
      "\n"
     ]
    },
    {
     "name": "stdin",
     "output_type": "stream",
     "text": [
      "Qual classe você escolhe ?(Guerreiro, Mago, Arqueiro):  Guerreiro\n",
      "Quanta energia você ira ter ?:  100\n"
     ]
    },
    {
     "name": "stdout",
     "output_type": "stream",
     "text": [
      "\n",
      "Classe: Guerreiro\n",
      "Energia: 100\n",
      "Dano: 200\n"
     ]
    }
   ],
   "source": [
    "# Jogo Rp\n",
    "\n",
    "classe=str(input(f\"Qual classe você escolhe ?(Guerreiro, Mago, Arqueiro): \"))\n",
    "while not(classe==\"Guerreiro\" or classe==\"Mago\" or classe==\"Arqueiro\"):\n",
    "    classe=str(input(f\"escolha uma classe entre(Guerreiro, Mago, Arqueiro): \"))\n",
    "\n",
    "energia=int(input(f\"Quanta energia você ira ter ?: \"))\n",
    "\n",
    "mago=(classe==\"Mago\")\n",
    "arqueiro=(classe==\"Arqueiro\")\n",
    "guerreiro=(classe==\"Guerreiro\")\n",
    "\n",
    "mago_energia=(classe==\"Mago\" and energia<=60)\n",
    "arqueiro_energia=(classe==\"Arqueiro\" and energia<=40)\n",
    "guerreiro_energia=(classe==\"Mago\" and energia<=50)\n",
    "\n",
    "\n",
    "while(mago_energia_repete or arqueiro_energia_repete or guerreiro_energia_repete):\n",
    "    energia=int(input(f\"Sua energia deve ser maior ou igual a 1\"))\n",
    "while(energia>100):\n",
    "    energia=int(input(f\"A energia deve ser menor ou igual a 100: \"))\n",
    "\n",
    "dano=0\n",
    "if(mago):\n",
    "    dano=energia*1.5\n",
    "elif(arqueiro):\n",
    "    dano=energia*1.2\n",
    "else:\n",
    "    dano=energia*2\n",
    "\n",
    "print(f'\\nClasse: {classe}\\nEnergia: {energia}\\nDano: {dano}')"
   ]
  },
  {
   "cell_type": "code",
   "execution_count": null,
   "id": "47d5a43f-575b-4b12-9956-8073e7ec05f3",
   "metadata": {},
   "outputs": [],
   "source": []
  }
 ],
 "metadata": {
  "kernelspec": {
   "display_name": "Python 3 (ipykernel)",
   "language": "python",
   "name": "python3"
  },
  "language_info": {
   "codemirror_mode": {
    "name": "ipython",
    "version": 3
   },
   "file_extension": ".py",
   "mimetype": "text/x-python",
   "name": "python",
   "nbconvert_exporter": "python",
   "pygments_lexer": "ipython3",
   "version": "3.11.4"
  }
 },
 "nbformat": 4,
 "nbformat_minor": 5
}
