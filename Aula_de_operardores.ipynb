{
  "nbformat": 4,
  "nbformat_minor": 0,
  "metadata": {
    "colab": {
      "provenance": [],
      "authorship_tag": "ABX9TyMAaGzc+yyO5pnUufdi9Itb",
      "include_colab_link": true
    },
    "kernelspec": {
      "name": "python3",
      "display_name": "Python 3"
    },
    "language_info": {
      "name": "python"
    }
  },
  "cells": [
    {
      "cell_type": "markdown",
      "metadata": {
        "id": "view-in-github",
        "colab_type": "text"
      },
      "source": [
        "<a href=\"https://colab.research.google.com/github/Ishiki02/PA-2025/blob/main/Aula_de_operardores.ipynb\" target=\"_parent\"><img src=\"https://colab.research.google.com/assets/colab-badge.svg\" alt=\"Open In Colab\"/></a>"
      ]
    },
    {
      "cell_type": "markdown",
      "source": [
        "*Soma*"
      ],
      "metadata": {
        "id": "DYSTEoiAhY1d"
      }
    },
    {
      "cell_type": "code",
      "execution_count": 2,
      "metadata": {
        "colab": {
          "base_uri": "https://localhost:8080/"
        },
        "id": "ZsWOH6nQbIw4",
        "outputId": "e8f8cc7e-063f-4795-e2c9-070bf91aabac"
      },
      "outputs": [
        {
          "output_type": "execute_result",
          "data": {
            "text/plain": [
              "8"
            ]
          },
          "metadata": {},
          "execution_count": 2
        }
      ],
      "source": [
        "5+3"
      ]
    },
    {
      "cell_type": "markdown",
      "source": [
        "*Subtraçâo*"
      ],
      "metadata": {
        "id": "ejg66zpvhuOK"
      }
    },
    {
      "cell_type": "code",
      "source": [
        "9-3"
      ],
      "metadata": {
        "colab": {
          "base_uri": "https://localhost:8080/"
        },
        "id": "h3euLS2Hhs-l",
        "outputId": "dc804e34-9411-4494-a45c-c44c409478f3"
      },
      "execution_count": 3,
      "outputs": [
        {
          "output_type": "execute_result",
          "data": {
            "text/plain": [
              "6"
            ]
          },
          "metadata": {},
          "execution_count": 3
        }
      ]
    },
    {
      "cell_type": "markdown",
      "source": [
        "#Multiplicação#"
      ],
      "metadata": {
        "id": "i8C3VQNRh3rx"
      }
    },
    {
      "cell_type": "code",
      "source": [
        "5*3"
      ],
      "metadata": {
        "colab": {
          "base_uri": "https://localhost:8080/"
        },
        "id": "WBw0wj33h3QR",
        "outputId": "0f4446c5-466f-4922-dce3-ed2b95b7bb37"
      },
      "execution_count": 4,
      "outputs": [
        {
          "output_type": "execute_result",
          "data": {
            "text/plain": [
              "15"
            ]
          },
          "metadata": {},
          "execution_count": 4
        }
      ]
    },
    {
      "cell_type": "markdown",
      "source": [
        "#Divisâo#"
      ],
      "metadata": {
        "id": "r4ednbQniN2M"
      }
    },
    {
      "cell_type": "code",
      "source": [
        "6/2"
      ],
      "metadata": {
        "colab": {
          "base_uri": "https://localhost:8080/"
        },
        "id": "2DbWTFbdiM2P",
        "outputId": "d49bd24d-7098-4d9f-8030-8cb89a0d6766"
      },
      "execution_count": 5,
      "outputs": [
        {
          "output_type": "execute_result",
          "data": {
            "text/plain": [
              "3.0"
            ]
          },
          "metadata": {},
          "execution_count": 5
        }
      ]
    },
    {
      "cell_type": "markdown",
      "source": [
        "#Igualdade#"
      ],
      "metadata": {
        "id": "3AABEzUqihB5"
      }
    },
    {
      "cell_type": "code",
      "source": [
        "a = 4\n",
        "a==4\n",
        "a==3"
      ],
      "metadata": {
        "colab": {
          "base_uri": "https://localhost:8080/"
        },
        "id": "kG9pxBJ3il_a",
        "outputId": "a0f77499-3522-40e3-8745-915343aa5ecd"
      },
      "execution_count": 13,
      "outputs": [
        {
          "output_type": "execute_result",
          "data": {
            "text/plain": [
              "False"
            ]
          },
          "metadata": {},
          "execution_count": 13
        }
      ]
    },
    {
      "cell_type": "markdown",
      "source": [
        "#Diferente#"
      ],
      "metadata": {
        "id": "FV7g4T2cnaA1"
      }
    },
    {
      "cell_type": "code",
      "source": [
        "a!=4"
      ],
      "metadata": {
        "colab": {
          "base_uri": "https://localhost:8080/"
        },
        "id": "BUXx7yyZnmoR",
        "outputId": "adb385e7-ffaa-4640-aa12-6497dbc9f52e"
      },
      "execution_count": 21,
      "outputs": [
        {
          "output_type": "execute_result",
          "data": {
            "text/plain": [
              "False"
            ]
          },
          "metadata": {},
          "execution_count": 21
        }
      ]
    },
    {
      "cell_type": "markdown",
      "source": [
        "#Expoente#"
      ],
      "metadata": {
        "id": "OiIf01utjqq0"
      }
    },
    {
      "cell_type": "code",
      "source": [
        "4**3"
      ],
      "metadata": {
        "colab": {
          "base_uri": "https://localhost:8080/"
        },
        "id": "fZ7KngBijuMp",
        "outputId": "f8e38ea5-a4f0-4a4c-8ee7-fa5875376170"
      },
      "execution_count": 14,
      "outputs": [
        {
          "output_type": "execute_result",
          "data": {
            "text/plain": [
              "64"
            ]
          },
          "metadata": {},
          "execution_count": 14
        }
      ]
    },
    {
      "cell_type": "markdown",
      "source": [
        "#Maior, menor, maior ou igual e menor ou igual#"
      ],
      "metadata": {
        "id": "ptO9kAs8j49Q"
      }
    },
    {
      "cell_type": "code",
      "source": [
        "5>3\n"
      ],
      "metadata": {
        "colab": {
          "base_uri": "https://localhost:8080/"
        },
        "id": "iqUz49nRkA2W",
        "outputId": "1db72724-0557-4553-d272-d46d62b72e12"
      },
      "execution_count": 15,
      "outputs": [
        {
          "output_type": "execute_result",
          "data": {
            "text/plain": [
              "True"
            ]
          },
          "metadata": {},
          "execution_count": 15
        }
      ]
    },
    {
      "cell_type": "code",
      "source": [
        "5>6"
      ],
      "metadata": {
        "colab": {
          "base_uri": "https://localhost:8080/"
        },
        "id": "iDu_5fj_kxQ1",
        "outputId": "f54c41c4-fea1-42f6-999a-85f89e7b231f"
      },
      "execution_count": 16,
      "outputs": [
        {
          "output_type": "execute_result",
          "data": {
            "text/plain": [
              "False"
            ]
          },
          "metadata": {},
          "execution_count": 16
        }
      ]
    },
    {
      "cell_type": "code",
      "source": [
        "6<7"
      ],
      "metadata": {
        "colab": {
          "base_uri": "https://localhost:8080/"
        },
        "id": "l98_NtCbkzHN",
        "outputId": "0ca08d57-b10e-4867-9b5d-efa8a57403ff"
      },
      "execution_count": 18,
      "outputs": [
        {
          "output_type": "execute_result",
          "data": {
            "text/plain": [
              "True"
            ]
          },
          "metadata": {},
          "execution_count": 18
        }
      ]
    },
    {
      "cell_type": "code",
      "source": [
        "5>=5"
      ],
      "metadata": {
        "colab": {
          "base_uri": "https://localhost:8080/"
        },
        "id": "wzR0726IlN6C",
        "outputId": "5936c779-510e-4953-a75c-95a1d909e3da"
      },
      "execution_count": 19,
      "outputs": [
        {
          "output_type": "execute_result",
          "data": {
            "text/plain": [
              "True"
            ]
          },
          "metadata": {},
          "execution_count": 19
        }
      ]
    },
    {
      "cell_type": "code",
      "source": [
        "6<=7"
      ],
      "metadata": {
        "colab": {
          "base_uri": "https://localhost:8080/"
        },
        "id": "pLz0fgBIlxLE",
        "outputId": "1f0b0b20-9930-452e-f875-16b000dae102"
      },
      "execution_count": 20,
      "outputs": [
        {
          "output_type": "execute_result",
          "data": {
            "text/plain": [
              "True"
            ]
          },
          "metadata": {},
          "execution_count": 20
        }
      ]
    },
    {
      "cell_type": "markdown",
      "source": [
        "#Variaveis#"
      ],
      "metadata": {
        "id": "3GZ7UeW7nyXZ"
      }
    },
    {
      "cell_type": "code",
      "source": [
        "nome = 'Cauê'\n",
        "sobrenome = 'Ishiki'\n",
        "print (\"Meu nome é\", nome, sobrenome)"
      ],
      "metadata": {
        "colab": {
          "base_uri": "https://localhost:8080/"
        },
        "id": "tS_Y1jyvmopc",
        "outputId": "0dd48cfd-7efb-4c93-dd47-09bfacc25af0"
      },
      "execution_count": 36,
      "outputs": [
        {
          "output_type": "stream",
          "name": "stdout",
          "text": [
            "Meu nome é Cauê Ishiki\n"
          ]
        }
      ]
    },
    {
      "cell_type": "code",
      "source": [
        "nome = str(input('Digite seu nome:'))\n",
        "sobrenome = str(input('Digite seu sobrenome:'))\n",
        "\n",
        "print ('Meu nome é', nome, sobrenome)"
      ],
      "metadata": {
        "colab": {
          "base_uri": "https://localhost:8080/"
        },
        "id": "rUzedZBNsCkA",
        "outputId": "4ab79b5a-0dc9-4283-ef1e-f641c43247a1"
      },
      "execution_count": 46,
      "outputs": [
        {
          "output_type": "stream",
          "name": "stdout",
          "text": [
            "Digite seu nome:Cauê\n",
            "Digite seu sobrenome:Ishiki\n",
            "Meu nome é Cauê Ishiki\n"
          ]
        }
      ]
    },
    {
      "cell_type": "code",
      "source": [
        "print (nome)"
      ],
      "metadata": {
        "colab": {
          "base_uri": "https://localhost:8080/"
        },
        "id": "OrEbnAHEtO28",
        "outputId": "c600fbe0-6866-4ecc-8c5e-9d49261df2c0"
      },
      "execution_count": 47,
      "outputs": [
        {
          "output_type": "stream",
          "name": "stdout",
          "text": [
            "Cauê\n"
          ]
        }
      ]
    },
    {
      "cell_type": "code",
      "source": [
        "#Entrada\n",
        "lado = float(input('lado do quadrado:'))\n",
        "#Processamento\n",
        "Area = (lado*lado)\n",
        "#Saida\n",
        "print ('A area é:', Area, 'já que lado é', lado )"
      ],
      "metadata": {
        "colab": {
          "base_uri": "https://localhost:8080/"
        },
        "id": "-XcETnoXtwZZ",
        "outputId": "4df5ecb8-2808-4706-ddb2-1ae68b374baf"
      },
      "execution_count": 24,
      "outputs": [
        {
          "output_type": "stream",
          "name": "stdout",
          "text": [
            "lado do quadrado:17\n",
            "A area é: 289.0 já que lado é 17.0\n"
          ]
        }
      ]
    },
    {
      "cell_type": "code",
      "source": [],
      "metadata": {
        "id": "TG47deVQyrlm"
      },
      "execution_count": null,
      "outputs": []
    }
  ]
}